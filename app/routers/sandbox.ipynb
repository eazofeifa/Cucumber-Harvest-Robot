{
 "cells": [
  {
   "cell_type": "code",
   "execution_count": 12,
   "id": "f5f352aa-2a07-436a-ba57-9a168eedf22d",
   "metadata": {},
   "outputs": [],
   "source": [
    "import json\n",
    "import os\n",
    "import pickle\n",
    "from IPython.display import JSON"
   ]
  },
  {
   "cell_type": "code",
   "execution_count": 13,
   "id": "f7609e49-de71-43e8-97f5-cbf2bcbec643",
   "metadata": {},
   "outputs": [],
   "source": [
    "from utils import set_yaml_entry"
   ]
  },
  {
   "cell_type": "code",
   "execution_count": 3,
   "id": "3a150a21-cdf5-44f1-bdca-80147fe1ee16",
   "metadata": {},
   "outputs": [],
   "source": [
    "set_yaml_entry('config.yaml', ['DUMMY_PATH'], '/home/jetadmin/Apps/Cucumber/Server/Loop/app/routers/example.jpg')"
   ]
  },
  {
   "cell_type": "code",
   "execution_count": null,
   "id": "e271829d-584c-4bc6-a5aa-ce5e926b9cb2",
   "metadata": {},
   "outputs": [],
   "source": []
  },
  {
   "cell_type": "code",
   "execution_count": 4,
   "id": "4daf6503-2a4a-4f83-badc-ac7ac8fc3dd4",
   "metadata": {},
   "outputs": [],
   "source": [
    "set_yaml_entry('config.yaml', ['USE_DUMMY'], True)"
   ]
  },
  {
   "cell_type": "code",
   "execution_count": 5,
   "id": "fa59fc31-995f-4e7a-b417-fa1bb4dd5850",
   "metadata": {},
   "outputs": [],
   "source": [
    "set_yaml_entry('config.yaml', ['SAND_DIR'], '/home/jetadmin/Apps/Cucumber/Server/Loop/app/routers/data')"
   ]
  },
  {
   "cell_type": "code",
   "execution_count": 6,
   "id": "f8665103-7311-4872-ade1-0526ea53392f",
   "metadata": {},
   "outputs": [],
   "source": [
    "def to_pickle(obj, name, ext='.pkl'):\n",
    "\n",
    "   with open(name + ext, 'wb') as f:\n",
    "\n",
    "       pickle.dump(obj, f, pickle.HIGHEST_PROTOCOL)\n",
    "\n",
    "def from_pickle(name, ext='.pkl'):\n",
    "\n",
    "   res = None\n",
    "\n",
    "   if does_exist(name + ext, ''):\n",
    "\n",
    "       with open(name + ext, 'rb') as f:\n",
    "\n",
    "           res = pickle.load(f)\n",
    "\n",
    "   return res\n",
    "\n",
    "def does_exist(name, ext='.pkl'):\n",
    "\n",
    "   return os.path.exists(name + ext)"
   ]
  },
  {
   "cell_type": "code",
   "execution_count": 10,
   "id": "7390b599-1cea-4fd3-8e08-0457f93938b5",
   "metadata": {},
   "outputs": [],
   "source": [
    "annotation = from_pickle('/home/jetadmin/Apps/Cucumber/Server/Loop/app/routers/data/annotation_0')"
   ]
  },
  {
   "cell_type": "code",
   "execution_count": 14,
   "id": "61a36198-e56a-4eac-be5e-6d856fc86d88",
   "metadata": {},
   "outputs": [
    {
     "name": "stderr",
     "output_type": "stream",
     "text": [
      "/home/jetadmin/.local/lib/python3.8/site-packages/IPython/core/display.py:618: UserWarning: JSON expects JSONable dict or list, not JSON strings\n",
      "  warnings.warn(\"JSON expects JSONable dict or list, not JSON strings\")\n"
     ]
    },
    {
     "data": {
      "application/json": [
       {
        "box": {
         "x1": 2035.5,
         "x2": 2100.5,
         "y1": 682.75,
         "y2": 793.25
        },
        "class": 0,
        "confidence": 0.83301,
        "name": "stem"
       },
       {
        "box": {
         "x1": 398.875,
         "x2": 462.125,
         "y1": 711.75,
         "y2": 814.25
        },
        "class": 0,
        "confidence": 0.80176,
        "name": "stem"
       },
       {
        "box": {
         "x1": 1947,
         "x2": 2007,
         "y1": 462.75,
         "y2": 877.25
        },
        "class": 1,
        "confidence": 0.7124,
        "name": "cucumber"
       },
       {
        "box": {
         "x1": 1301.5,
         "x2": 1322.5,
         "y1": 163.8125,
         "y2": 219.1875
        },
        "class": 0,
        "confidence": 0.65332,
        "name": "stem"
       },
       {
        "box": {
         "x1": 312.25,
         "x2": 393.75,
         "y1": 371.25,
         "y2": 1020.75
        },
        "class": 1,
        "confidence": 0.63623,
        "name": "cucumber"
       },
       {
        "box": {
         "x1": 311.875,
         "x2": 408.125,
         "y1": 221,
         "y2": 1024
        },
        "class": 1,
        "confidence": 0.625,
        "name": "cucumber"
       },
       {
        "box": {
         "x1": 1276,
         "x2": 1306,
         "y1": 132.5,
         "y2": 407.5
        },
        "class": 1,
        "confidence": 0.604,
        "name": "cucumber"
       }
      ],
      "text/plain": [
       "<IPython.core.display.JSON object>"
      ]
     },
     "execution_count": 14,
     "metadata": {
      "application/json": {
       "expanded": false,
       "root": "root"
      }
     },
     "output_type": "execute_result"
    }
   ],
   "source": [
    "JSON(annotation.to_json())"
   ]
  },
  {
   "cell_type": "code",
   "execution_count": null,
   "id": "5e110c83-64b0-4933-8a05-20f2654131ba",
   "metadata": {},
   "outputs": [],
   "source": []
  }
 ],
 "metadata": {
  "kernelspec": {
   "display_name": "Python 3 (ipykernel)",
   "language": "python",
   "name": "python3"
  },
  "language_info": {
   "codemirror_mode": {
    "name": "ipython",
    "version": 3
   },
   "file_extension": ".py",
   "mimetype": "text/x-python",
   "name": "python",
   "nbconvert_exporter": "python",
   "pygments_lexer": "ipython3",
   "version": "3.8.10"
  }
 },
 "nbformat": 4,
 "nbformat_minor": 5
}
